{
 "metadata": {
  "name": ""
 },
 "nbformat": 3,
 "nbformat_minor": 0,
 "worksheets": [
  {
   "cells": [
    {
     "cell_type": "markdown",
     "metadata": {},
     "source": [
      "<style>\n",
      "    img{\n",
      "        height: 500px;\n",
      "        width:  500px;\n",
      "        align: center;\n",
      "    }\n",
      "</style>"
     ]
    },
    {
     "cell_type": "heading",
     "level": 1,
     "metadata": {},
     "source": [
      "Getting started with Python"
     ]
    },
    {
     "cell_type": "markdown",
     "metadata": {},
     "source": [
      "Python is an interpreted, high level language that emphasises on the code readability and its functions rather than the syntax. It also has a lot of built-in methods and tools that allow programmers to express their code in very less lines of code. For this reason, it has been widely used for various purposes. It is also supported by the open source community and because of this, you will find modules for everything right from email fetching to complex tasks like image recognition."
     ]
    },
    {
     "cell_type": "markdown",
     "metadata": {},
     "source": [
      "Raspberry Pi can be programmed using the Python language as well as the new, feature rich Wolfram language."
     ]
    },
    {
     "cell_type": "heading",
     "level": 4,
     "metadata": {},
     "source": [
      "Basics of Python"
     ]
    },
    {
     "cell_type": "markdown",
     "metadata": {},
     "source": [
      "The customary starting point of learning any programming language: Printing 'hello world!' "
     ]
    },
    {
     "cell_type": "code",
     "collapsed": false,
     "input": [
      "print 'hello world!'"
     ],
     "language": "python",
     "metadata": {},
     "outputs": [
      {
       "output_type": "stream",
       "stream": "stdout",
       "text": [
        "hello world!\n"
       ]
      }
     ],
     "prompt_number": 1
    },
    {
     "cell_type": "markdown",
     "metadata": {},
     "source": [
      "In Python, you don't have to worry about memory allocation or specifying the data type of variables unlike commonly used languages like C, C++ and Java. This makes it easy for beginners and experts to concentrate on their code functionality. Also, Python uses indentation to specify blocks(instead of semicolons and brackets).\n"
     ]
    },
    {
     "cell_type": "code",
     "collapsed": false,
     "input": [
      "a = 10"
     ],
     "language": "python",
     "metadata": {},
     "outputs": [],
     "prompt_number": 2
    },
    {
     "cell_type": "code",
     "collapsed": false,
     "input": [
      "print type(a) #type() returns the type of the variable."
     ],
     "language": "python",
     "metadata": {},
     "outputs": [
      {
       "output_type": "stream",
       "stream": "stdout",
       "text": [
        "<type 'int'>\n"
       ]
      }
     ],
     "prompt_number": 3
    },
    {
     "cell_type": "code",
     "collapsed": false,
     "input": [
      "b = 10.01"
     ],
     "language": "python",
     "metadata": {},
     "outputs": [],
     "prompt_number": 5
    },
    {
     "cell_type": "code",
     "collapsed": false,
     "input": [
      "print type(b)"
     ],
     "language": "python",
     "metadata": {},
     "outputs": [
      {
       "output_type": "stream",
       "stream": "stdout",
       "text": [
        "<type 'float'>\n"
       ]
      }
     ],
     "prompt_number": 6
    },
    {
     "cell_type": "code",
     "collapsed": false,
     "input": [
      "c = 'python'"
     ],
     "language": "python",
     "metadata": {},
     "outputs": [],
     "prompt_number": 7
    },
    {
     "cell_type": "code",
     "collapsed": false,
     "input": [
      "print type(c)"
     ],
     "language": "python",
     "metadata": {},
     "outputs": [
      {
       "output_type": "stream",
       "stream": "stdout",
       "text": [
        "<type 'str'>\n"
       ]
      }
     ],
     "prompt_number": 8
    },
    {
     "cell_type": "code",
     "collapsed": false,
     "input": [
      "d = 'p'"
     ],
     "language": "python",
     "metadata": {},
     "outputs": [],
     "prompt_number": 9
    },
    {
     "cell_type": "code",
     "collapsed": false,
     "input": [
      "print type(d)"
     ],
     "language": "python",
     "metadata": {},
     "outputs": [
      {
       "output_type": "stream",
       "stream": "stdout",
       "text": [
        "<type 'str'>\n"
       ]
      }
     ],
     "prompt_number": 10
    },
    {
     "cell_type": "markdown",
     "metadata": {},
     "source": [
      "Note that, in Python, string and character are not different data types."
     ]
    },
    {
     "cell_type": "code",
     "collapsed": false,
     "input": [
      "listExample = [1, 2, 3] #list is the Python equivalent of arrays in C, C++, etc."
     ],
     "language": "python",
     "metadata": {},
     "outputs": [],
     "prompt_number": 11
    },
    {
     "cell_type": "markdown",
     "metadata": {},
     "source": [
      "The only difference is that, in Python, lists can be heterogeneous in nature. That is, a list's can have elements of different data types."
     ]
    },
    {
     "cell_type": "code",
     "collapsed": false,
     "input": [
      "listExample = [1, 'a', 1.9]"
     ],
     "language": "python",
     "metadata": {},
     "outputs": [],
     "prompt_number": 12
    },
    {
     "cell_type": "markdown",
     "metadata": {},
     "source": [
      "The variable's data type can also be changed when necessary."
     ]
    },
    {
     "cell_type": "code",
     "collapsed": false,
     "input": [
      "integer = 5"
     ],
     "language": "python",
     "metadata": {},
     "outputs": [],
     "prompt_number": 1
    },
    {
     "cell_type": "code",
     "collapsed": false,
     "input": [
      "print type(integer)"
     ],
     "language": "python",
     "metadata": {},
     "outputs": [
      {
       "output_type": "stream",
       "stream": "stdout",
       "text": [
        "<type 'int'>\n"
       ]
      }
     ],
     "prompt_number": 2
    },
    {
     "cell_type": "code",
     "collapsed": false,
     "input": [
      "integer = 'changing the type'"
     ],
     "language": "python",
     "metadata": {},
     "outputs": [],
     "prompt_number": 3
    },
    {
     "cell_type": "code",
     "collapsed": false,
     "input": [
      "print type(integer)"
     ],
     "language": "python",
     "metadata": {},
     "outputs": [
      {
       "output_type": "stream",
       "stream": "stdout",
       "text": [
        "<type 'str'>\n"
       ]
      }
     ],
     "prompt_number": 4
    },
    {
     "cell_type": "heading",
     "level": 4,
     "metadata": {},
     "source": [
      "Getting input from the user"
     ]
    },
    {
     "cell_type": "code",
     "collapsed": false,
     "input": [
      "variable =  raw_input() "
     ],
     "language": "python",
     "metadata": {},
     "outputs": [
      {
       "name": "stdout",
       "output_type": "stream",
       "stream": "stdout",
       "text": [
        "8\n"
       ]
      }
     ],
     "prompt_number": 5
    },
    {
     "cell_type": "code",
     "collapsed": false,
     "input": [
      "print type(variable)"
     ],
     "language": "python",
     "metadata": {},
     "outputs": [
      {
       "output_type": "stream",
       "stream": "stdout",
       "text": [
        "<type 'str'>\n"
       ]
      }
     ],
     "prompt_number": 6
    },
    {
     "cell_type": "markdown",
     "metadata": {},
     "source": [
      "Note that the raw_input() function stores values as strings by default."
     ]
    },
    {
     "cell_type": "markdown",
     "metadata": {},
     "source": [
      "To change this, use the following built in methods."
     ]
    },
    {
     "cell_type": "code",
     "collapsed": false,
     "input": [
      "variable = int(raw_input())"
     ],
     "language": "python",
     "metadata": {},
     "outputs": [
      {
       "name": "stdout",
       "output_type": "stream",
       "stream": "stdout",
       "text": [
        "6\n"
       ]
      }
     ],
     "prompt_number": 7
    },
    {
     "cell_type": "code",
     "collapsed": false,
     "input": [
      "print type(variable)"
     ],
     "language": "python",
     "metadata": {},
     "outputs": [
      {
       "output_type": "stream",
       "stream": "stdout",
       "text": [
        "<type 'int'>\n"
       ]
      }
     ],
     "prompt_number": 8
    },
    {
     "cell_type": "code",
     "collapsed": false,
     "input": [
      "variable = float(raw_input())"
     ],
     "language": "python",
     "metadata": {},
     "outputs": [
      {
       "name": "stdout",
       "output_type": "stream",
       "stream": "stdout",
       "text": [
        "8\n"
       ]
      }
     ],
     "prompt_number": 9
    },
    {
     "cell_type": "code",
     "collapsed": false,
     "input": [
      "print variable, type(variable)"
     ],
     "language": "python",
     "metadata": {},
     "outputs": [
      {
       "output_type": "stream",
       "stream": "stdout",
       "text": [
        "8.0 <type 'float'>\n"
       ]
      }
     ],
     "prompt_number": 10
    },
    {
     "cell_type": "markdown",
     "metadata": {},
     "source": [
      "Note that, the print function can be used to print multiple values by separating them with a comma."
     ]
    },
    {
     "cell_type": "markdown",
     "metadata": {},
     "source": [
      "To display a prompt to the user while getting input, specifying the prompt string like:"
     ]
    },
    {
     "cell_type": "code",
     "collapsed": false,
     "input": [
      "a = raw_input(\"Enter your name\")"
     ],
     "language": "python",
     "metadata": {},
     "outputs": [
      {
       "name": "stdout",
       "output_type": "stream",
       "stream": "stdout",
       "text": [
        "Enter your nameEnsemble Tech\n"
       ]
      }
     ],
     "prompt_number": 11
    },
    {
     "cell_type": "code",
     "collapsed": false,
     "input": [
      "a"
     ],
     "language": "python",
     "metadata": {},
     "outputs": [
      {
       "metadata": {},
       "output_type": "pyout",
       "prompt_number": 12,
       "text": [
        "'Ensemble Tech'"
       ]
      }
     ],
     "prompt_number": 12
    },
    {
     "cell_type": "heading",
     "level": 4,
     "metadata": {},
     "source": [
      "Some commonly used built-in methods"
     ]
    },
    {
     "cell_type": "code",
     "collapsed": false,
     "input": [
      "list = [1, 3, 5, 2, 4, 1]"
     ],
     "language": "python",
     "metadata": {},
     "outputs": [],
     "prompt_number": 15
    },
    {
     "cell_type": "code",
     "collapsed": false,
     "input": [
      "list.count(1) #the count of the element 1 in the list"
     ],
     "language": "python",
     "metadata": {},
     "outputs": [
      {
       "output_type": "stream",
       "stream": "stdout",
       "text": [
        "2\n"
       ]
      }
     ],
     "prompt_number": 16
    },
    {
     "cell_type": "code",
     "collapsed": false,
     "input": [
      "list.sort() #sorts the list"
     ],
     "language": "python",
     "metadata": {},
     "outputs": [],
     "prompt_number": 17
    },
    {
     "cell_type": "code",
     "collapsed": false,
     "input": [
      "list #the list has been sorted"
     ],
     "language": "python",
     "metadata": {},
     "outputs": [
      {
       "metadata": {},
       "output_type": "pyout",
       "prompt_number": 18,
       "text": [
        "[1, 1, 2, 3, 4, 5]"
       ]
      }
     ],
     "prompt_number": 18
    },
    {
     "cell_type": "code",
     "collapsed": false,
     "input": [
      "list.append(6) #add an element to the end of the list."
     ],
     "language": "python",
     "metadata": {},
     "outputs": [],
     "prompt_number": 19
    },
    {
     "cell_type": "markdown",
     "metadata": {},
     "source": [
      "In Python, a string is basically a list of characters. For this reason, list methods can also be used for strings. There are also some extra methods. "
     ]
    },
    {
     "cell_type": "code",
     "collapsed": false,
     "input": [
      "string = \"this is an example\""
     ],
     "language": "python",
     "metadata": {},
     "outputs": [],
     "prompt_number": 20
    },
    {
     "cell_type": "code",
     "collapsed": false,
     "input": [
      "string.capitalize() #capitalizes the first letter of the string"
     ],
     "language": "python",
     "metadata": {},
     "outputs": [
      {
       "metadata": {},
       "output_type": "pyout",
       "prompt_number": 21,
       "text": [
        "'This is an example'"
       ]
      }
     ],
     "prompt_number": 21
    },
    {
     "cell_type": "code",
     "collapsed": false,
     "input": [
      "string = 'single quotes can also be used'"
     ],
     "language": "python",
     "metadata": {},
     "outputs": [],
     "prompt_number": 22
    },
    {
     "cell_type": "markdown",
     "metadata": {},
     "source": [
      "But make sure that you don't use ' and \" together. For example,"
     ]
    },
    {
     "cell_type": "code",
     "collapsed": false,
     "input": [
      "dontDoThis = 'look at the error\""
     ],
     "language": "python",
     "metadata": {},
     "outputs": [
      {
       "ename": "SyntaxError",
       "evalue": "EOL while scanning string literal (<ipython-input-23-1868471ea474>, line 1)",
       "output_type": "pyerr",
       "traceback": [
        "\u001b[0;36m  File \u001b[0;32m\"<ipython-input-23-1868471ea474>\"\u001b[0;36m, line \u001b[0;32m1\u001b[0m\n\u001b[0;31m    dontDoThis = 'look at the error\"\u001b[0m\n\u001b[0m                                   ^\u001b[0m\n\u001b[0;31mSyntaxError\u001b[0m\u001b[0;31m:\u001b[0m EOL while scanning string literal\n"
       ]
      }
     ],
     "prompt_number": 23
    },
    {
     "cell_type": "heading",
     "level": 4,
     "metadata": {},
     "source": [
      "Loops and conditions"
     ]
    },
    {
     "cell_type": "markdown",
     "metadata": {},
     "source": [
      "If, if..else, nested if:"
     ]
    },
    {
     "cell_type": "code",
     "collapsed": false,
     "input": [
      "if True:\n",
      "    print 'this'"
     ],
     "language": "python",
     "metadata": {},
     "outputs": [
      {
       "output_type": "stream",
       "stream": "stdout",
       "text": [
        "this\n"
       ]
      }
     ],
     "prompt_number": 24
    },
    {
     "cell_type": "code",
     "collapsed": false,
     "input": [
      "if False:\n",
      "    print 'hello'\n",
      "else:\n",
      "    print 'hello world'"
     ],
     "language": "python",
     "metadata": {},
     "outputs": [
      {
       "output_type": "stream",
       "stream": "stdout",
       "text": [
        "hello world\n"
       ]
      }
     ],
     "prompt_number": 27
    },
    {
     "cell_type": "code",
     "collapsed": false,
     "input": [
      "a = 5"
     ],
     "language": "python",
     "metadata": {},
     "outputs": [],
     "prompt_number": 28
    },
    {
     "cell_type": "code",
     "collapsed": false,
     "input": [
      "if a > 5:\n",
      "    print 'this computer is very poor at Math'\n",
      "else:\n",
      "    print 'Come on! Even a kid can say this'"
     ],
     "language": "python",
     "metadata": {},
     "outputs": [
      {
       "output_type": "stream",
       "stream": "stdout",
       "text": [
        "Come on! Even a kid can say this\n"
       ]
      }
     ],
     "prompt_number": 30
    },
    {
     "cell_type": "markdown",
     "metadata": {},
     "source": [
      "Nested if is achieved by using elif statements."
     ]
    },
    {
     "cell_type": "code",
     "collapsed": false,
     "input": [
      "#this example uses whatever we have learnt till now\n",
      "#can you guess the output without scrolling down?\n",
      "userInput = int(raw_input(\"Enter something\"))\n",
      "inType = type(userInput)\n",
      "if inType == str: #== is used for checking equality. Use = only for assignment\n",
      "    print \"you entered a string\" #or maybe you forgot to cast it to the required type. Use int() or float()\n",
      "elif inType == float:\n",
      "    print \"you entered a float value\"\n",
      "elif inType == list:\n",
      "    print \"that is a list\"\n",
      "else:\n",
      "    print \"This is an integer.\" #properly typed because this is the right output."
     ],
     "language": "python",
     "metadata": {},
     "outputs": [
      {
       "name": "stdout",
       "output_type": "stream",
       "stream": "stdout",
       "text": [
        "Enter somethingsomething\n"
       ]
      },
      {
       "ename": "ValueError",
       "evalue": "invalid literal for int() with base 10: 'something'",
       "output_type": "pyerr",
       "traceback": [
        "\u001b[0;31m---------------------------------------------------------------------------\u001b[0m\n\u001b[0;31mValueError\u001b[0m                                Traceback (most recent call last)",
        "\u001b[0;32m<ipython-input-31-2d0aa59e6b53>\u001b[0m in \u001b[0;36m<module>\u001b[0;34m()\u001b[0m\n\u001b[1;32m      1\u001b[0m \u001b[0;31m#this example uses whatever we have learnt till now\u001b[0m\u001b[0;34m\u001b[0m\u001b[0;34m\u001b[0m\u001b[0m\n\u001b[1;32m      2\u001b[0m \u001b[0;31m#can you guess the output without scrolling down?\u001b[0m\u001b[0;34m\u001b[0m\u001b[0;34m\u001b[0m\u001b[0m\n\u001b[0;32m----> 3\u001b[0;31m \u001b[0muserInput\u001b[0m \u001b[0;34m=\u001b[0m \u001b[0mint\u001b[0m\u001b[0;34m(\u001b[0m\u001b[0mraw_input\u001b[0m\u001b[0;34m(\u001b[0m\u001b[0;34m\"Enter something\"\u001b[0m\u001b[0;34m)\u001b[0m\u001b[0;34m)\u001b[0m\u001b[0;34m\u001b[0m\u001b[0m\n\u001b[0m\u001b[1;32m      4\u001b[0m \u001b[0minType\u001b[0m \u001b[0;34m=\u001b[0m \u001b[0mtype\u001b[0m\u001b[0;34m(\u001b[0m\u001b[0muserInput\u001b[0m\u001b[0;34m)\u001b[0m\u001b[0;34m\u001b[0m\u001b[0m\n\u001b[1;32m      5\u001b[0m \u001b[0;32mif\u001b[0m \u001b[0minType\u001b[0m \u001b[0;34m==\u001b[0m \u001b[0mstr\u001b[0m\u001b[0;34m:\u001b[0m \u001b[0;31m#== is used for checking equality. Use = only for assignment\u001b[0m\u001b[0;34m\u001b[0m\u001b[0m\n",
        "\u001b[0;31mValueError\u001b[0m: invalid literal for int() with base 10: 'something'"
       ]
      }
     ],
     "prompt_number": 31
    },
    {
     "cell_type": "markdown",
     "metadata": {},
     "source": [
      "No, I was cheating. You can't convert a string to an integer unless it has only numbers. For example, you can change '9898' to a string but changing 'asdasdsad' to a number is not possible."
     ]
    },
    {
     "cell_type": "code",
     "collapsed": false,
     "input": [
      "#this example uses whatever we have learnt till now\n",
      "#can you guess the output without scrolling down?\n",
      "userInput = int(raw_input(\"Enter something: \"))\n",
      "inType = type(userInput)\n",
      "if inType == str: #== is used for checking equality. Use = only for assignment\n",
      "    print \"you entered a string\" #or maybe you forgot to cast it to the required type. Use int() or float()\n",
      "elif inType == float:\n",
      "    print \"you entered a float value\"\n",
      "elif inType == list:\n",
      "    print \"that is a list\"\n",
      "else:\n",
      "    print \"This is an integer.\" #properly typed because this is the right output."
     ],
     "language": "python",
     "metadata": {},
     "outputs": [
      {
       "name": "stdout",
       "output_type": "stream",
       "stream": "stdout",
       "text": [
        "Enter something: 123\n"
       ]
      },
      {
       "output_type": "stream",
       "stream": "stdout",
       "text": [
        "This is an integer.\n"
       ]
      }
     ],
     "prompt_number": 33
    },
    {
     "cell_type": "heading",
     "level": 4,
     "metadata": {},
     "source": [
      "Loops:"
     ]
    },
    {
     "cell_type": "markdown",
     "metadata": {},
     "source": [
      "For loop: Uses range() and xrange() to iterate through a series of values."
     ]
    },
    {
     "cell_type": "code",
     "collapsed": false,
     "input": [
      "range(1, 10) #series of values from 1 upto 10(excluding 10)"
     ],
     "language": "python",
     "metadata": {},
     "outputs": [
      {
       "metadata": {},
       "output_type": "pyout",
       "prompt_number": 34,
       "text": [
        "[1, 2, 3, 4, 5, 6, 7, 8, 9]"
       ]
      }
     ],
     "prompt_number": 34
    },
    {
     "cell_type": "code",
     "collapsed": false,
     "input": [
      "xrange(1, 10)"
     ],
     "language": "python",
     "metadata": {},
     "outputs": [
      {
       "metadata": {},
       "output_type": "pyout",
       "prompt_number": 35,
       "text": [
        "xrange(1, 10)"
       ]
      }
     ],
     "prompt_number": 35
    },
    {
     "cell_type": "markdown",
     "metadata": {},
     "source": [
      "The difference between range() and xrange() is beyond the scope of Python application in RPi. However, in brief, use range() in situations where you need the values in the series(like printing numbers from 1 to 100). Use xrange() when you don't need the values(like printing hello world 100 times). You can use any of the two but using them according to the above guidelines will result in an optimised code."
     ]
    },
    {
     "cell_type": "code",
     "collapsed": false,
     "input": [
      "for number in range(2):\n",
      "    print number"
     ],
     "language": "python",
     "metadata": {},
     "outputs": [
      {
       "output_type": "stream",
       "stream": "stdout",
       "text": [
        "0\n",
        "1\n"
       ]
      }
     ],
     "prompt_number": 36
    },
    {
     "cell_type": "markdown",
     "metadata": {},
     "source": [
      "Note that the arguments of both range() and xrange() is of the form (x)range(start, stop[, step]). Here the stop parameter is mandatory. The start parameter is 0 by default. step parameter allows you to go through the list in increments. For example,"
     ]
    },
    {
     "cell_type": "code",
     "collapsed": false,
     "input": [
      "range(0, 10, 2) #note that the start parameter is needed if a step is provided."
     ],
     "language": "python",
     "metadata": {},
     "outputs": [
      {
       "metadata": {},
       "output_type": "pyout",
       "prompt_number": 37,
       "text": [
        "[0, 2, 4, 6, 8]"
       ]
      }
     ],
     "prompt_number": 37
    },
    {
     "cell_type": "code",
     "collapsed": false,
     "input": [
      "a = 5\n",
      "while a < 10:\n",
      "    print a\n",
      "    a += 1 #the increment and decrement operators are not present in Python"
     ],
     "language": "python",
     "metadata": {},
     "outputs": [
      {
       "output_type": "stream",
       "stream": "stdout",
       "text": [
        "5\n",
        "6\n",
        "7\n",
        "8\n",
        "9\n"
       ]
      }
     ],
     "prompt_number": 39
    },
    {
     "cell_type": "markdown",
     "metadata": {},
     "source": [
      "Python doesn't provide a switch case construct. Use nested if(with elif) when necessary."
     ]
    },
    {
     "cell_type": "heading",
     "level": 4,
     "metadata": {},
     "source": [
      "User defined methods"
     ]
    },
    {
     "cell_type": "markdown",
     "metadata": {},
     "source": [
      "The basic syntax is :"
     ]
    },
    {
     "cell_type": "raw",
     "metadata": {},
     "source": [
      "def functionName(optional, parameters, if, needed):\n",
      "    the function\n",
      "    does this"
     ]
    },
    {
     "cell_type": "code",
     "collapsed": false,
     "input": [
      "def evenCheck(number):\n",
      "    if (number % 2) == 0:\n",
      "        return True\n",
      "    else:\n",
      "        return False\n",
      "\n",
      "def anotherImplementation(number):\n",
      "    if (number % 2) == 0:\n",
      "        return \"even\"\n",
      "    else:\n",
      "        return \"odd\"\n",
      "\n",
      "for testCase in xrange(2): \n",
      "    n = int(raw_input())\n",
      "    if evenCheck(n):\n",
      "        print \"the number is even\"\n",
      "    else:\n",
      "        print \"the number is odd\"\n",
      "        \n",
      "    result = anotherImplementation(n)\n",
      "    print \"The number is \" + result #string concatenation can be done with the + operator\n",
      "    print \"The number %d is %s\" %(n, result)"
     ],
     "language": "python",
     "metadata": {},
     "outputs": [
      {
       "name": "stdout",
       "output_type": "stream",
       "stream": "stdout",
       "text": [
        "3\n"
       ]
      },
      {
       "output_type": "stream",
       "stream": "stdout",
       "text": [
        "the number is odd\n",
        "The number is odd\n",
        "The number 3 is odd\n"
       ]
      },
      {
       "name": "stdout",
       "output_type": "stream",
       "stream": "stdout",
       "text": [
        "4\n"
       ]
      },
      {
       "output_type": "stream",
       "stream": "stdout",
       "text": [
        "the number is even\n",
        "The number is even\n",
        "The number 4 is even\n"
       ]
      }
     ],
     "prompt_number": 41
    },
    {
     "cell_type": "heading",
     "level": 3,
     "metadata": {},
     "source": [
      "Raspberry Pi with Python"
     ]
    },
    {
     "cell_type": "markdown",
     "metadata": {},
     "source": [
      "In combination with the above mentioned Python basics, you can use the RPi.GPIO module to program the GPIO pins of the Raspberry Pi. This module is already available in RPi so you don't have to install it. If you need any additional modules, launch the terminal in the RPi and use the command sudo pip install moduleName"
     ]
    },
    {
     "cell_type": "code",
     "collapsed": false,
     "input": [
      "import RPi.GPIO as GPIO #imports the module. using the 'as GPIO' makes it possible to use all the \n",
      "                        #module components as GPIO.something instead of RPi.GPIO.something"
     ],
     "language": "python",
     "metadata": {},
     "outputs": []
    },
    {
     "cell_type": "markdown",
     "metadata": {},
     "source": [
      "The following are some basics. An extensive documentation can be found here:\n",
      "http://pythonhosted.org/RPIO/"
     ]
    },
    {
     "cell_type": "code",
     "collapsed": false,
     "input": [
      "GPIO.setmode(GPIO.BOARD) #sets the numbering scheme according to the board\n",
      "GPIO.setwarnings(False)  #sets warnings to false. cleaner ouput.\n",
      "GPIO.setup(7, GPIO.OUT)  #set pin 7 as output\n",
      "GPIO.output(7, True)     #Set the output as true. In simple terms, light on\n",
      "GPIO.output(7, False)    #sets the output to false. In simple terms, light off\n",
      "GPIO.cleanup()           #reset every channel that has been set up by this program,\n",
      "                         # and unexport interrupt gpio interfaces"
     ],
     "language": "python",
     "metadata": {},
     "outputs": []
    },
    {
     "cell_type": "markdown",
     "metadata": {},
     "source": [
      "Make sure you don't use the wrong pins. This image from http://www.raspberrypi-spy.co.uk/2014/07/raspberry-pi-b-gpio-header-details-and-pinout/ should give you an idea of what to use and what not to use."
     ]
    },
    {
     "cell_type": "markdown",
     "metadata": {},
     "source": [
      "<img src = \"gpio.png\">"
     ]
    },
    {
     "cell_type": "markdown",
     "metadata": {},
     "source": [
      "Here is a simple program to turn on an LED."
     ]
    },
    {
     "cell_type": "code",
     "collapsed": false,
     "input": [
      "import RPi.GPIO as GPIO\n",
      "import time\n",
      "\n",
      "GPIO.setmode(GPIO.BOARD)\n",
      "GPIO.setwarnings(False)\n",
      "GPIO.setup(7, GPIO.OUT)\n",
      "\n",
      "GPIO.output(7, True)\n",
      "time.sleep(3)\n",
      "GPIO.output(7, False)"
     ],
     "language": "python",
     "metadata": {},
     "outputs": []
    },
    {
     "cell_type": "markdown",
     "metadata": {},
     "source": [
      "This program turns on the LED, keeps it on for 3 seconds and then turns it off."
     ]
    },
    {
     "cell_type": "markdown",
     "metadata": {},
     "source": [
      "To make the LED blink at specific time intervals(say blink thrice. once in every two seconds) "
     ]
    },
    {
     "cell_type": "code",
     "collapsed": false,
     "input": [
      "import RPi.GPIO as GPIO\n",
      "import time\n",
      "\n",
      "GPIO.setmode(GPIO.BOARD)\n",
      "GPIO.setwarnings(False)\n",
      "GPIO.setup(7, GPIO.OUT)\n",
      "\n",
      "for blink in xrange(3):\n",
      "    GPIO.output(7, True)\n",
      "    time.sleep(0.5)\n",
      "    GPIO.output(7, False)\n",
      "    time.sleep(2)"
     ],
     "language": "python",
     "metadata": {},
     "outputs": []
    },
    {
     "cell_type": "markdown",
     "metadata": {},
     "source": [
      "<img src = \"pinDiagrams/singleLed.png\">"
     ]
    },
    {
     "cell_type": "markdown",
     "metadata": {},
     "source": [
      "To do the same with multiple LEDS,"
     ]
    },
    {
     "cell_type": "code",
     "collapsed": false,
     "input": [
      "#one led blinks, then the next..waits \n",
      "#for two seconds and then repeats it.\n",
      "\n",
      "import RPi.GPIO as GPIO\n",
      "import time\n",
      "\n",
      "GPIO.setmode(GPIO.BOARD)\n",
      "GPIO.setwarnings(False)\n",
      "GPIO.setup(3, GPIO.OUT)\n",
      "GPIO.setup(7, GPIO.OUT)\n",
      "\n",
      "for blink in xrange(3):\n",
      "    GPIO.output(7, True)\n",
      "    time.sleep(0.5)\n",
      "    GPIO.output(7, False)\n",
      "    GPIO.output(3, True)\n",
      "    time.sleep(0.5)\n",
      "    GPIO.output(3, False)\n",
      "    time.sleep(2)"
     ],
     "language": "python",
     "metadata": {},
     "outputs": []
    },
    {
     "cell_type": "markdown",
     "metadata": {},
     "source": [
      "<img src = \"pinDiagrams/twoLed.png\" style = \"height: 200px, width: 200px\">"
     ]
    },
    {
     "cell_type": "markdown",
     "metadata": {},
     "source": [
      "To do the same with a user input for the number of times and the blink duration, use the following code."
     ]
    },
    {
     "cell_type": "code",
     "collapsed": false,
     "input": [
      "import RPi.GPIO as GPIO\n",
      "import time\n",
      "\n",
      "#turns on and blinks an LED for a number of times\n",
      "#specified by the user.\n",
      "\n",
      "GPIO.setmode(GPIO.BOARD)\n",
      "GPIO.setwarnings(False)\n",
      "GPIO.setup(7, GPIO.OUT)\n",
      "\n",
      "try:\n",
      "    noOfTimes = int(raw_input(\"Enter the number of blinks\"))\n",
      "except:\n",
      "    print 'Please enter an integer value'\n",
      "\n",
      "try:\n",
      "    blinkDuration = float(raw_input(\"Enter the duration of the blinks\"))\n",
      "except:\n",
      "    print 'Please enter a number'\n",
      "\n",
      "for n in xrange(noOfTimes):    \n",
      "    GPIO.output(7, True)\n",
      "    time.sleep(blinkDuration)\n",
      "    GPIO.output(7, False)\n",
      "    time.sleep(blinkDuration)\n"
     ],
     "language": "python",
     "metadata": {},
     "outputs": []
    },
    {
     "cell_type": "markdown",
     "metadata": {},
     "source": [
      "Here is a simple program to control LED in a Rasberry Pi using your voice"
     ]
    },
    {
     "cell_type": "markdown",
     "metadata": {},
     "source": [
      "This uses SL4A, a scripting tool for Android with Python for Android enabled in it. The setup is pretty easy and straightforward. Along with it, use the following commands in your RPi to install the required modules."
     ]
    },
    {
     "cell_type": "markdown",
     "metadata": {},
     "source": [
      "`sudo apt-get python-pip`"
     ]
    },
    {
     "cell_type": "markdown",
     "metadata": {},
     "source": [
      "`sudo pip install pygmail`"
     ]
    },
    {
     "cell_type": "markdown",
     "metadata": {},
     "source": [
      "Enter the following command in your SL4A interpreter "
     ]
    },
    {
     "cell_type": "code",
     "collapsed": false,
     "input": [
      "import os\n",
      "import glob\n",
      "import mimetypes \n",
      "from email import encoders\n",
      "from email.mime.audio import MIMEAudio\n",
      "from email.mime.base import MIMEBase\n",
      "from email.mime.image import MIMEImage\n",
      "from email.mime.multipart import MIMEMultipart\n",
      "from email.mime.text import MIMEText\n",
      "\n",
      "def attach_files(msg, attachements):\n",
      "  for attachment in attachments:\n",
      "    attachment = attachment.strip()\n",
      "    for path in glob.glob(attachment):\n",
      "      filename = os.path.basename(path)\n",
      "      if not os.path.isfile(path):\n",
      "        continue\n",
      "      # Guess the content type based on the file's extension.  Encoding\n",
      "      # will be ignored, although we should check for simple things like\n",
      "      # gzip'd or compressed files.\n",
      "      ctype, encoding = mimetypes.guess_type(path)\n",
      "      if ctype is None or encoding is not None:\n",
      "        # No guess could be made, or the file is encoded (compressed), so\n",
      "        # use a generic bag-of-bits type.\n",
      "        ctype = 'application/octet-stream'\n",
      "      maintype, subtype = ctype.split('/', 1)\n",
      "      if maintype == 'text':\n",
      "        fp = open(path)\n",
      "        # Note: we should handle calculating the charset\n",
      "        part = MIMEText(fp.read(), _subtype=subtype)\n",
      "        fp.close()\n",
      "      elif maintype == 'image':\n",
      "        fp = open(path, 'rb')\n",
      "        part = MIMEImage(fp.read(), _subtype=subtype)\n",
      "        fp.close()\n",
      "      elif maintype == 'audio':\n",
      "        fp = open(path, 'rb')\n",
      "        part = MIMEAudio(fp.read(), _subtype=subtype)\n",
      "        fp.close()\n",
      "      else:\n",
      "        fp = open(path, 'rb')\n",
      "        part = MIMEBase(maintype, subtype)\n",
      "        part.set_payload(fp.read())\n",
      "        fp.close()\n",
      "        # Encode the payload using Base64\n",
      "        encoders.encode_base64(part)\n",
      "      # Set the filename parameter\n",
      "      part.add_header('Content-Disposition', 'attachment', filename=filename)\n",
      "      msg.attach(part)\n",
      "\n",
      "def sendemail(email_name, email_user, email_pswd, mailto, subject, body, attachments):\n",
      "  import smtplib\n",
      "\n",
      "  # DON'T CHANGE THIS!\n",
      "  # ...unless you're rewriting this script for your own SMTP server!\n",
      "  smtp_server = 'smtp.gmail.com'\n",
      "  smtp_port = 587\n",
      "\n",
      "  # Build an SMTP compatible message\n",
      "  msg = MIMEMultipart()\n",
      "  msg['Subject'] = subject\n",
      "  msg['To'] = mailto\n",
      "  msg['From'] = email_name + \" <\" + email_user + \">\"\n",
      "  msg.attach(MIMEText(body, 'plain'))\n",
      "  attach_files(msg, attachments)\n",
      "\n",
      "  # Attempt to connect and send the email\n",
      "  try:\n",
      "    smtpObj = '' # Declare within this block.\n",
      "    # Check for SMTP over SSL by port number and connect accordingly\n",
      "    if( smtp_port == 465):\n",
      "      smtpObj = smtplib.SMTP_SSL(smtp_server,smtp_port)\n",
      "    else:\n",
      "      smtpObj = smtplib.SMTP(smtp_server,smtp_port)\n",
      "    smtpObj.ehlo()\n",
      "    # StartTLS if using the default TLS port number\n",
      "    if(smtp_port == 587):\n",
      "      smtpObj.starttls()\n",
      "      smtpObj.ehlo\n",
      "    # Login, send and close the connection.\n",
      "    smtpObj.login(email_user, email_pswd)\n",
      "    smtpObj.sendmail(email_user, mailto, msg.as_string())\n",
      "    smtpObj.close()\n",
      "    return 1  # Return 1 to denote success!\n",
      "  except Exception, err:\n",
      "    # Print error and return 0 on failure.\n",
      "    print err\n",
      "    return 0\n",
      "\n",
      "import sys\n",
      "import android\n",
      "\n",
      "droid = android.Android()\n",
      "\n",
      "email_name = \"Your Name\"\n",
      "email_user = \"emailid@gmail.com\"\n",
      "email_pswd = \"password\"\n",
      "mailto = \"emailid@gmail.com\"\n",
      "subject = \"LED\"\n",
      "attachments = ''\n",
      "\n",
      "body = droid.recognizeSpeech().result\n",
      "\n",
      "\n",
      "if (sendemail(email_name, email_user, email_pswd, mailto, subject, body, attachments)):\n",
      "      sys.exit(0)\n",
      "else:\n",
      "      droid.makeToast(\"Failed to send email\")\n",
      "  "
     ],
     "language": "python",
     "metadata": {},
     "outputs": []
    },
    {
     "cell_type": "markdown",
     "metadata": {},
     "source": [
      "And save the following code in your Raspberry Pi"
     ]
    },
    {
     "cell_type": "code",
     "collapsed": false,
     "input": [
      "import gmail\n",
      "import RPi.GPIO as GPIO\n",
      "import time\n",
      "\n",
      "GPIO.setmode(GPIO.BOARD)\n",
      "GPIO.setwarnings(False)\n",
      "GPIO.setup(7, GPIO.OUT)\n",
      "\n",
      "print 'authenticating. please wait'\n",
      "\n",
      "g = gmail.login('username', 'password')\n",
      "while True:\n",
      "\tcommandMails = g.inbox().mail(unread = True, sender = 'sourceEmailgmail.com', subject = 'LED')\n",
      "\ttry:\t\n",
      "\t\tcommandMails[0].fetch()\n",
      "\t\tcommand = commandMails[0].body.lower()\n",
      "\t\tcommandMails[0].delete()\n",
      "\t\tif 'light' in command or 'lite' in command:\n",
      "\t\t\tif 'on' in command:\n",
      "\t\t\t\tGPIO.output(7, True)\n",
      "\t\t\tif 'off' in command or 'of' in command:\n",
      "\t\t\t\tGPIO.output(7, False)\n",
      "\t\telse:\n",
      "\t\t\tpass\n",
      "\texcept:\n",
      "\t\ttime.sleep(10)"
     ],
     "language": "python",
     "metadata": {},
     "outputs": []
    },
    {
     "cell_type": "markdown",
     "metadata": {},
     "source": [
      "Run both the codes and see the magic. You can easily modify this code to control more than one LED. By adding a few more if..elif..else or the more complex set intersection approach, you can create something like a home automation system."
     ]
    },
    {
     "cell_type": "heading",
     "level": 3,
     "metadata": {},
     "source": [
      "The next level of RPi projects..."
     ]
    },
    {
     "cell_type": "markdown",
     "metadata": {},
     "source": [
      "Till now, we have only seen how to control the RPi using the internet. We used an email based approach which may not be effective all the time. A better approach would be to use the RPi's networking capabilities and use some other device connected to the same local network that the RPi is in to control the GPIO pins.\n"
     ]
    },
    {
     "cell_type": "markdown",
     "metadata": {},
     "source": [
      "You can use either Python or nodeJS(a Javascript based runtime environment for server-side and networking applications). "
     ]
    },
    {
     "cell_type": "markdown",
     "metadata": {},
     "source": [
      "Here is a Python based approach."
     ]
    },
    {
     "cell_type": "markdown",
     "metadata": {},
     "source": [
      "We will be using lighttpd to run a server on the Raspberry Pi. To install lighttpd, use"
     ]
    },
    {
     "cell_type": "markdown",
     "metadata": {},
     "source": [
      "`sudo apt-get install lighttpd`"
     ]
    },
    {
     "cell_type": "markdown",
     "metadata": {},
     "source": [
      "Now open the file browser in your RPi and type this in the address bar:"
     ]
    },
    {
     "cell_type": "markdown",
     "metadata": {},
     "source": [
      "`/var/www/`"
     ]
    },
    {
     "cell_type": "markdown",
     "metadata": {},
     "source": [
      "Create an index.html with contents according to your wish."
     ]
    },
    {
     "cell_type": "raw",
     "metadata": {},
     "source": [
      "<html>\n",
      "  <head>\n",
      "    <title>Ensemble Tech</title>\n",
      "  </head>\n",
      "  <body>\n",
      "    <h1>Hello World!</h1>\n",
      "  </body>\n",
      "</html>"
     ]
    },
    {
     "cell_type": "markdown",
     "metadata": {},
     "source": [
      "If you are not able to create this file, use the following commands after starting the terminal."
     ]
    },
    {
     "cell_type": "markdown",
     "metadata": {},
     "source": [
      "`cd /var/www/` "
     ]
    },
    {
     "cell_type": "markdown",
     "metadata": {},
     "source": [
      "`chmod -R 777`"
     ]
    },
    {
     "cell_type": "markdown",
     "metadata": {},
     "source": [
      "and then create the index.html file."
     ]
    },
    {
     "cell_type": "markdown",
     "metadata": {},
     "source": [
      "To test this, open the terminal and run"
     ]
    },
    {
     "cell_type": "markdown",
     "metadata": {},
     "source": [
      "`sudo service lighttpd start`"
     ]
    },
    {
     "cell_type": "markdown",
     "metadata": {},
     "source": [
      "Now using any device that is connected to the same local network that the RPi is in, open a web browser of your choice and type the IP address of the RPi in the address bar. You can find this using the `ip addr show` command. If all goes well(it usually does if you have followed the instructions), you will be able to see the index file you had created previously."
     ]
    },
    {
     "cell_type": "markdown",
     "metadata": {},
     "source": [
      "We will using FastCGI to run our Python program on the server. To install, use "
     ]
    },
    {
     "cell_type": "markdown",
     "metadata": {},
     "source": [
      "`sudo apt-get install python-flup`"
     ]
    },
    {
     "cell_type": "markdown",
     "metadata": {},
     "source": [
      "Create the following file in the /var/www/ path and change its permissions to 755. Use `chmod -R led.py` . Note that you can give any file name but remember this for later use."
     ]
    },
    {
     "cell_type": "code",
     "collapsed": false,
     "input": [
      "#!/usr/bin/pythonRoot\n",
      "import RPi.GPIO as GPIO     \n",
      "from flup.server.fcgi import WSGIServer \n",
      "import sys\n",
      "import urlparse\n",
      " \n",
      "# set up our GPIO pins\n",
      "GPIO.setmode(G.BOARD)\n",
      "GPIO.setup(7, GPIO.OUT) #use any GPIO pin\n",
      " \n",
      "\n",
      "def app(environ, start_response): \n",
      "  start_response(\"200 OK\", [(\"Content-Type\", \"text/html\")])\n",
      "  i = urlparse.parse_qs(environ[\"QUERY_STRING\"])\n",
      "  yield ('&nbsp;')\n",
      "  if \"led\" in i:\n",
      "    if i[\"led\"][0] == \"on\": \n",
      "      GPIO.output(7, True)   # Turn it on\n",
      "    elif i[\"led\"][0] == \"off\":\n",
      "      GPIO.output(7, False)  # Turn it off\n",
      " \n",
      "WSGIServer(app).run()"
     ],
     "language": "python",
     "metadata": {},
     "outputs": []
    },
    {
     "cell_type": "markdown",
     "metadata": {},
     "source": [
      "We need to run Python for this script. However, doing so with default settings will result in security issues as you will have to provide sudo rights to control GPIO with Python. To avoid this, "
     ]
    },
    {
     "cell_type": "raw",
     "metadata": {},
     "source": [
      "ls -l /usr/bin/python"
     ]
    },
    {
     "cell_type": "markdown",
     "metadata": {},
     "source": [
      "Note the version of your Python from the result of the above command. Use that version number(for eg. if it is 2.7) as"
     ]
    },
    {
     "cell_type": "raw",
     "metadata": {},
     "source": [
      "sudo cp /usr/bin/python2.7 /usr/bin/pythonRoot\n",
      "sudo chmod u+s /usr/bin/pythonRoot"
     ]
    },
    {
     "cell_type": "markdown",
     "metadata": {},
     "source": [
      "Go to the directory /etc/lighttpd in the file browser and change the file permissions as mentioned earlier. This is to enable editing of the lighttpd.conf file."
     ]
    },
    {
     "cell_type": "markdown",
     "metadata": {},
     "source": [
      "Open the lighttpd.conf file and add mod_fastcgi to the server.modules list."
     ]
    },
    {
     "cell_type": "markdown",
     "metadata": {},
     "source": [
      "Then, add this to the conf file at the end."
     ]
    },
    {
     "cell_type": "raw",
     "metadata": {},
     "source": [
      "fastcgi.server = (\n",
      "   \".py\" => (\n",
      "     \"python-fcgi\" => (\n",
      "       \"socket\" => \"/tmp/fastcgi.python.socket\",\n",
      "       \"bin-path\" => \"/var/www/doStuff.py\",\n",
      "       \"check-local\" => \"disable\",\n",
      "       \"max-procs\" => 1)\n",
      "    )\n",
      " )"
     ]
    },
    {
     "cell_type": "markdown",
     "metadata": {},
     "source": [
      "To test this, you will have to restart the server. To do so, use any of the two following techniques(the former is an obviously better approach):"
     ]
    },
    {
     "cell_type": "markdown",
     "metadata": {},
     "source": [
      "`sudo service lighttpd restart`\n",
      "<br>Or<br>\n",
      "`sudo service lighttpd stop`\n",
      "<br>\n",
      "`sudo service lighttpd start`"
     ]
    },
    {
     "cell_type": "markdown",
     "metadata": {},
     "source": [
      "If you open the same address in your browser(192.168.0.32 in my case), you will see the same index.html. Now do the following in the URL.<br>\n",
      "192.168.0.32/led.py?led=on\n",
      "<br>The LED will now turn on.<br>\n",
      "192.168.0.32/led.py?led=off\n",
      "<br>The LED will now turn off.<br>"
     ]
    },
    {
     "cell_type": "heading",
     "level": 3,
     "metadata": {},
     "source": [
      "Capturing photos over network"
     ]
    },
    {
     "cell_type": "heading",
     "level": 5,
     "metadata": {},
     "source": [
      "Server code(the computer where the images are to be saved). "
     ]
    },
    {
     "cell_type": "code",
     "collapsed": false,
     "input": [
      "import io\n",
      "import socket\n",
      "import struct\n",
      "from PIL import Image\n",
      "import os\n",
      "\n",
      "# Start a socket listening for connections on 0.0.0.0:8000 (0.0.0.0 means\n",
      "# all interfaces)\n",
      "server_socket = socket.socket()\n",
      "server_socket.bind(('0.0.0.0', 8000))\n",
      "server_socket.listen(0)\n",
      "\n",
      "# Accept a single connection and make a file-like object out of it\n",
      "connection = server_socket.accept()[0].makefile('rb')\n",
      "try:\n",
      "    os.mkdir('RPi')\n",
      "except:\n",
      "    os.chdir('RPi')\n",
      "count = 1\n",
      "\n",
      "try:\n",
      "    while True:\n",
      "        # Read the length of the image as a 32-bit unsigned int. If the\n",
      "        # length is zero, quit the loop\n",
      "        image_len = struct.unpack('<L', connection.read(struct.calcsize('<L')))[0]\n",
      "        if not image_len:\n",
      "            break\n",
      "        # Construct a stream to hold the image data and read the image\n",
      "        # data from the connection\n",
      "        image_stream = io.BytesIO()\n",
      "        image_stream.write(connection.read(image_len))\n",
      "        # Rewind the stream, open it as an image with PIL and do some\n",
      "        # processing on it\n",
      "        image_stream.seek(0)\n",
      "        image = Image.open(image_stream)\n",
      "        image.save(str(count) + '.jpg')\n",
      "        count += 1\n",
      "        print('Image is %dx%d' % image.size)\n",
      "        image.verify()\n",
      "        print('Image is verified')\n",
      "finally:\n",
      "    connection.close()\n",
      "    server_socket.close()\n"
     ],
     "language": "python",
     "metadata": {},
     "outputs": []
    },
    {
     "cell_type": "markdown",
     "metadata": {},
     "source": [
      "On the Raspberry pi, use the following code. In the place of my_server, use the ip address of your server. Run ifconfig to find out the IP."
     ]
    },
    {
     "cell_type": "code",
     "collapsed": false,
     "input": [
      "import io\n",
      "import socket\n",
      "import struct\n",
      "import time\n",
      "import picamera\n",
      "\n",
      "# Connect a client socket to my_server:8000 (change my_server to the\n",
      "# hostname of your server)\n",
      "client_socket = socket.socket()\n",
      "client_socket.connect(('my_server', 8000))\n",
      "\n",
      "# Make a file-like object out of the connection\n",
      "connection = client_socket.makefile('wb')\n",
      "try:\n",
      "    with picamera.PiCamera() as camera:\n",
      "        camera.resolution = (640, 480)\n",
      "        # Start a preview and let the camera warm up for 2 seconds\n",
      "        camera.start_preview()\n",
      "        time.sleep(2)\n",
      "\n",
      "        # Note the start time and construct a stream to hold image data\n",
      "        # temporarily (we could write it directly to connection but in this\n",
      "        # case we want to find out the size of each capture first to keep\n",
      "        # our protocol simple)\n",
      "        start = time.time()\n",
      "        stream = io.BytesIO()\n",
      "        for foo in camera.capture_continuous(stream, 'jpeg'):\n",
      "            # Write the length of the capture to the stream and flush to\n",
      "            # ensure it actually gets sent\n",
      "            connection.write(struct.pack('<L', stream.tell()))\n",
      "            connection.flush()\n",
      "            # Rewind the stream and send the image data over the wire\n",
      "            stream.seek(0)\n",
      "            connection.write(stream.read())\n",
      "            # If we've been capturing for more than 30 seconds, quit\n",
      "            if time.time() - start > 30:\n",
      "                break\n",
      "            # Reset the stream for the next capture\n",
      "            stream.seek(0)\n",
      "            stream.truncate()\n",
      "    # Write a length of zero to the stream to signal we're done\n",
      "    connection.write(struct.pack('<L', 0))\n",
      "finally:\n",
      "    connection.close()\n",
      "    client_socket.close()"
     ],
     "language": "python",
     "metadata": {},
     "outputs": []
    },
    {
     "cell_type": "heading",
     "level": 3,
     "metadata": {},
     "source": [
      "Interfacing Arduino with RPi"
     ]
    },
    {
     "cell_type": "markdown",
     "metadata": {},
     "source": [
      "First setup the serial pins on RPi"
     ]
    },
    {
     "cell_type": "markdown",
     "metadata": {},
     "source": [
      "`sudo cp /boot/cmdline.txt /boot/cmdline_backup.txt`"
     ]
    },
    {
     "cell_type": "markdown",
     "metadata": {},
     "source": [
      "`sudo nano /boot/cmdline.txt`"
     ]
    },
    {
     "cell_type": "markdown",
     "metadata": {},
     "source": [
      "Change this <br>\n",
      "`dwc_otg.lpm_enable=0 console=ttyAMA0,115200 console=tty1 root=/dev/mmcblk0p2 rootfstype=ext4 elevator=deadline rootwait`"
     ]
    },
    {
     "cell_type": "markdown",
     "metadata": {},
     "source": [
      "To"
     ]
    },
    {
     "cell_type": "markdown",
     "metadata": {},
     "source": [
      "`dwc_otg.lpm_enable=0 console=tty1 root=/dev/mmcblk0p2 rootfstype=ext4 elevator=deadline rootwait`"
     ]
    },
    {
     "cell_type": "markdown",
     "metadata": {},
     "source": [
      "`sudo nano /etc/inittab`"
     ]
    },
    {
     "cell_type": "markdown",
     "metadata": {},
     "source": [
      "Search for ttyAMA0 and comment out that line by including a # in the beginning of that line."
     ]
    },
    {
     "cell_type": "markdown",
     "metadata": {},
     "source": [
      "Connect the TX pin of the Arduino to RX of the RPi. Make sure that the ground of RPi is connected to the RPi as well."
     ]
    },
    {
     "cell_type": "markdown",
     "metadata": {},
     "source": [
      "Consider the following example where the temperature readings are recorded and shared over a server. The client then plots a graph with that output data."
     ]
    },
    {
     "cell_type": "heading",
     "level": 6,
     "metadata": {},
     "source": [
      "Server(RPi)"
     ]
    },
    {
     "cell_type": "code",
     "collapsed": false,
     "input": [
      "#!/usr/bin/python\n",
      "\n",
      "import web\n",
      "import serial\n",
      "import time\n",
      "\n",
      "\n",
      "urls = ('/', 'index')\n",
      "\n",
      "class index:\n",
      "    def GET(self):\n",
      "        s = serial.Serial('/dev/ttyAMA0')\n",
      "\ttemp = int(s.readline().strip('\\n')) / 2\n",
      "        return str(temp)\n",
      "\n",
      "if __name__ == \"__main__\":\n",
      "    app = web.application(urls, globals())\n",
      "    app.run()"
     ],
     "language": "python",
     "metadata": {},
     "outputs": []
    },
    {
     "cell_type": "heading",
     "level": 6,
     "metadata": {},
     "source": [
      "Client side:"
     ]
    },
    {
     "cell_type": "code",
     "collapsed": false,
     "input": [
      "import urllib2\n",
      "import time\n",
      "import matplotlib.pyplot as plt\n",
      "\n",
      "t = []\n",
      "tempValues = []\n",
      "\n",
      "print 'please wait..values are being read'\n",
      "\n",
      "for x in range(1, 10):\n",
      "    t.append(x)\n",
      "\ttemp = int(urllib2.urlopen('http://192.168.0.32:8080').read())\n",
      "    print ldr\n",
      "    tempValues.append(ldr)\n",
      "\n",
      "plt.plot(t, lightValues)\n",
      "plt.show()\n"
     ],
     "language": "python",
     "metadata": {},
     "outputs": []
    },
    {
     "cell_type": "markdown",
     "metadata": {},
     "source": [
      "Communicating with Arduino over serial port:"
     ]
    },
    {
     "cell_type": "code",
     "collapsed": false,
     "input": [
      "\n",
      "void setup()\n",
      "{\n",
      "  Serial.begin(9600);  \n",
      "}\n",
      "\n",
      "void loop()\n",
      "{\n",
      "  if(Serial.available())\n",
      "  {\n",
      "    while(Serial.available()>0)\n",
      "    {\n",
      "      char inByte = Serial.read();\n",
      "      Serial.print(inByte);\n",
      "    }\n",
      "    Serial.print('\\n');\n",
      "    Serial.flush();\n",
      "  }\n",
      "  delay(3000);\n",
      "}"
     ],
     "language": "python",
     "metadata": {},
     "outputs": []
    },
    {
     "cell_type": "heading",
     "level": 2,
     "metadata": {},
     "source": [
      "Making a script run on startup in RPi"
     ]
    },
    {
     "cell_type": "markdown",
     "metadata": {},
     "source": [
      "Use crontab -e. Scroll to the bottom and type `@reboot command file &` Press ctrl+o, enter and then ctrl+x. You can use the same to run a particular script at various time intervals."
     ]
    },
    {
     "cell_type": "code",
     "collapsed": false,
     "input": [],
     "language": "python",
     "metadata": {},
     "outputs": []
    }
   ],
   "metadata": {}
  }
 ]
}