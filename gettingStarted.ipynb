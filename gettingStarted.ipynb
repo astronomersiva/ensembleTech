{
 "metadata": {
  "name": "Getting started with Python"
 },
 "nbformat": 3,
 "nbformat_minor": 0,
 "worksheets": [
  {
   "cells": [
    {
     "cell_type": "heading",
     "level": 1,
     "metadata": {},
     "source": "Getting started with Python"
    },
    {
     "cell_type": "markdown",
     "metadata": {},
     "source": "Python is an interpreted, high level language that emphasises on the code readability and its functions rather than the syntax. It also has a lot of built-in methods and tools that allow programmers to express their code in very less lines of code. For this reason, it has been widely used for various purposes. It is also supported by the open source community and because of this, you will find modules for everything right from email fetching to complex tasks like image recognition."
    },
    {
     "cell_type": "markdown",
     "metadata": {},
     "source": "Raspberry Pi can be programmed using the Python language as well as the new, feature rich Wolfram language."
    },
    {
     "cell_type": "heading",
     "level": 4,
     "metadata": {},
     "source": "Basics of Python"
    },
    {
     "cell_type": "markdown",
     "metadata": {},
     "source": "The customary starting point of learning any programming language: Printing 'hello world!' "
    },
    {
     "cell_type": "code",
     "collapsed": false,
     "input": "print 'hello world!'",
     "language": "python",
     "metadata": {},
     "outputs": [
      {
       "output_type": "stream",
       "stream": "stdout",
       "text": "hello world!\n"
      }
     ],
     "prompt_number": 1
    },
    {
     "cell_type": "markdown",
     "metadata": {},
     "source": "In Python, you don't have to worry about memory allocation or specifying the data type of variables unlike commonly used languages like C, C++ and Java. This makes it easy for beginners and experts to concentrate on their code functionality. Also, Python uses indentation to specify blocks(instead of semicolons and brackets).\n"
    },
    {
     "cell_type": "code",
     "collapsed": false,
     "input": "a = 10",
     "language": "python",
     "metadata": {},
     "outputs": [],
     "prompt_number": 2
    },
    {
     "cell_type": "code",
     "collapsed": false,
     "input": "print type(a) #type() returns the type of the variable.",
     "language": "python",
     "metadata": {},
     "outputs": [
      {
       "output_type": "stream",
       "stream": "stdout",
       "text": "<type 'int'>\n"
      }
     ],
     "prompt_number": 3
    },
    {
     "cell_type": "code",
     "collapsed": false,
     "input": "b = 10.01",
     "language": "python",
     "metadata": {},
     "outputs": [],
     "prompt_number": 5
    },
    {
     "cell_type": "code",
     "collapsed": false,
     "input": "print type(b)",
     "language": "python",
     "metadata": {},
     "outputs": [
      {
       "output_type": "stream",
       "stream": "stdout",
       "text": "<type 'float'>\n"
      }
     ],
     "prompt_number": 6
    },
    {
     "cell_type": "code",
     "collapsed": false,
     "input": "c = 'python'",
     "language": "python",
     "metadata": {},
     "outputs": [],
     "prompt_number": 7
    },
    {
     "cell_type": "code",
     "collapsed": false,
     "input": "print type(c)",
     "language": "python",
     "metadata": {},
     "outputs": [
      {
       "output_type": "stream",
       "stream": "stdout",
       "text": "<type 'str'>\n"
      }
     ],
     "prompt_number": 8
    },
    {
     "cell_type": "code",
     "collapsed": false,
     "input": "d = 'p'",
     "language": "python",
     "metadata": {},
     "outputs": [],
     "prompt_number": 9
    },
    {
     "cell_type": "code",
     "collapsed": false,
     "input": "print type(d)",
     "language": "python",
     "metadata": {},
     "outputs": [
      {
       "output_type": "stream",
       "stream": "stdout",
       "text": "<type 'str'>\n"
      }
     ],
     "prompt_number": 10
    },
    {
     "cell_type": "markdown",
     "metadata": {},
     "source": "Note that, in Python, string and character are not different data types."
    },
    {
     "cell_type": "code",
     "collapsed": false,
     "input": "listExample = [1, 2, 3] #list is the Python equivalent of arrays in C, C++, etc.",
     "language": "python",
     "metadata": {},
     "outputs": [],
     "prompt_number": 11
    },
    {
     "cell_type": "markdown",
     "metadata": {},
     "source": "The only difference is that, in Python, lists can be heterogeneous in nature. That is, a list's can have elements of different data types."
    },
    {
     "cell_type": "code",
     "collapsed": false,
     "input": "listExample = [1, 'a', 1.9]",
     "language": "python",
     "metadata": {},
     "outputs": [],
     "prompt_number": 12
    },
    {
     "cell_type": "markdown",
     "metadata": {},
     "source": "The variable's data type can also be changed when necessary."
    },
    {
     "cell_type": "code",
     "collapsed": false,
     "input": "integer = 5",
     "language": "python",
     "metadata": {},
     "outputs": [],
     "prompt_number": 1
    },
    {
     "cell_type": "code",
     "collapsed": false,
     "input": "print type(integer)",
     "language": "python",
     "metadata": {},
     "outputs": [
      {
       "output_type": "stream",
       "stream": "stdout",
       "text": "<type 'int'>\n"
      }
     ],
     "prompt_number": 2
    },
    {
     "cell_type": "code",
     "collapsed": false,
     "input": "integer = 'changing the type'",
     "language": "python",
     "metadata": {},
     "outputs": [],
     "prompt_number": 3
    },
    {
     "cell_type": "code",
     "collapsed": false,
     "input": "print type(integer)",
     "language": "python",
     "metadata": {},
     "outputs": [
      {
       "output_type": "stream",
       "stream": "stdout",
       "text": "<type 'str'>\n"
      }
     ],
     "prompt_number": 4
    },
    {
     "cell_type": "heading",
     "level": 4,
     "metadata": {},
     "source": "Getting input from the user"
    },
    {
     "cell_type": "code",
     "collapsed": false,
     "input": "variable =  raw_input() ",
     "language": "python",
     "metadata": {},
     "outputs": [
      {
       "name": "stdout",
       "output_type": "stream",
       "stream": "stdout",
       "text": "8\n"
      }
     ],
     "prompt_number": 5
    },
    {
     "cell_type": "code",
     "collapsed": false,
     "input": "print type(variable)",
     "language": "python",
     "metadata": {},
     "outputs": [
      {
       "output_type": "stream",
       "stream": "stdout",
       "text": "<type 'str'>\n"
      }
     ],
     "prompt_number": 6
    },
    {
     "cell_type": "markdown",
     "metadata": {},
     "source": "Note that the raw_input() function stores values as strings by default."
    },
    {
     "cell_type": "markdown",
     "metadata": {},
     "source": "To change this, use the following built in methods."
    },
    {
     "cell_type": "code",
     "collapsed": false,
     "input": "variable = int(raw_input())",
     "language": "python",
     "metadata": {},
     "outputs": [
      {
       "name": "stdout",
       "output_type": "stream",
       "stream": "stdout",
       "text": "6\n"
      }
     ],
     "prompt_number": 7
    },
    {
     "cell_type": "code",
     "collapsed": false,
     "input": "print type(variable)",
     "language": "python",
     "metadata": {},
     "outputs": [
      {
       "output_type": "stream",
       "stream": "stdout",
       "text": "<type 'int'>\n"
      }
     ],
     "prompt_number": 8
    },
    {
     "cell_type": "code",
     "collapsed": false,
     "input": "variable = float(raw_input())",
     "language": "python",
     "metadata": {},
     "outputs": [
      {
       "name": "stdout",
       "output_type": "stream",
       "stream": "stdout",
       "text": "8\n"
      }
     ],
     "prompt_number": 9
    },
    {
     "cell_type": "code",
     "collapsed": false,
     "input": "print variable, type(variable)",
     "language": "python",
     "metadata": {},
     "outputs": [
      {
       "output_type": "stream",
       "stream": "stdout",
       "text": "8.0 <type 'float'>\n"
      }
     ],
     "prompt_number": 10
    },
    {
     "cell_type": "markdown",
     "metadata": {},
     "source": "Note that, the print function can be used to print multiple values by separating them with a comma."
    },
    {
     "cell_type": "markdown",
     "metadata": {},
     "source": "To display a prompt to the user while getting input, specifying the prompt string like:"
    },
    {
     "cell_type": "code",
     "collapsed": false,
     "input": "a = raw_input(\"Enter your name\")",
     "language": "python",
     "metadata": {},
     "outputs": [
      {
       "name": "stdout",
       "output_type": "stream",
       "stream": "stdout",
       "text": "Enter your nameEnsemble Tech\n"
      }
     ],
     "prompt_number": 11
    },
    {
     "cell_type": "code",
     "collapsed": false,
     "input": "a",
     "language": "python",
     "metadata": {},
     "outputs": [
      {
       "metadata": {},
       "output_type": "pyout",
       "prompt_number": 12,
       "text": "'Ensemble Tech'"
      }
     ],
     "prompt_number": 12
    },
    {
     "cell_type": "heading",
     "level": 4,
     "metadata": {},
     "source": "Some commonly used built-in methods"
    },
    {
     "cell_type": "code",
     "collapsed": false,
     "input": "list = [1, 3, 5, 2, 4, 1]",
     "language": "python",
     "metadata": {},
     "outputs": [],
     "prompt_number": 15
    },
    {
     "cell_type": "code",
     "collapsed": false,
     "input": "list.count(1) #the count of the element 1 in the list",
     "language": "python",
     "metadata": {},
     "outputs": [
      {
       "output_type": "stream",
       "stream": "stdout",
       "text": "2\n"
      }
     ],
     "prompt_number": 16
    },
    {
     "cell_type": "code",
     "collapsed": false,
     "input": "list.sort() #sorts the list",
     "language": "python",
     "metadata": {},
     "outputs": [],
     "prompt_number": 17
    },
    {
     "cell_type": "code",
     "collapsed": false,
     "input": "list #the list has been sorted",
     "language": "python",
     "metadata": {},
     "outputs": [
      {
       "metadata": {},
       "output_type": "pyout",
       "prompt_number": 18,
       "text": "[1, 1, 2, 3, 4, 5]"
      }
     ],
     "prompt_number": 18
    },
    {
     "cell_type": "code",
     "collapsed": false,
     "input": "list.append(6) #add an element to the end of the list.",
     "language": "python",
     "metadata": {},
     "outputs": [],
     "prompt_number": 19
    },
    {
     "cell_type": "markdown",
     "metadata": {},
     "source": "In Python, a string is basically a list of characters. For this reason, list methods can also be used for strings. There are also some extra methods. "
    },
    {
     "cell_type": "code",
     "collapsed": false,
     "input": "string = \"this is an example\"",
     "language": "python",
     "metadata": {},
     "outputs": [],
     "prompt_number": 20
    },
    {
     "cell_type": "code",
     "collapsed": false,
     "input": "string.capitalize() #capitalizes the first letter of the string",
     "language": "python",
     "metadata": {},
     "outputs": [
      {
       "metadata": {},
       "output_type": "pyout",
       "prompt_number": 21,
       "text": "'This is an example'"
      }
     ],
     "prompt_number": 21
    },
    {
     "cell_type": "code",
     "collapsed": false,
     "input": "string = 'single quotes can also be used'",
     "language": "python",
     "metadata": {},
     "outputs": [],
     "prompt_number": 22
    },
    {
     "cell_type": "markdown",
     "metadata": {},
     "source": "But make sure that you don't use ' and \" together. For example,"
    },
    {
     "cell_type": "code",
     "collapsed": false,
     "input": "dontDoThis = 'look at the error\"",
     "language": "python",
     "metadata": {},
     "outputs": [
      {
       "ename": "SyntaxError",
       "evalue": "EOL while scanning string literal (<ipython-input-23-1868471ea474>, line 1)",
       "output_type": "pyerr",
       "traceback": [
        "\u001b[0;36m  File \u001b[0;32m\"<ipython-input-23-1868471ea474>\"\u001b[0;36m, line \u001b[0;32m1\u001b[0m\n\u001b[0;31m    dontDoThis = 'look at the error\"\u001b[0m\n\u001b[0m                                   ^\u001b[0m\n\u001b[0;31mSyntaxError\u001b[0m\u001b[0;31m:\u001b[0m EOL while scanning string literal\n"
       ]
      }
     ],
     "prompt_number": 23
    },
    {
     "cell_type": "heading",
     "level": 4,
     "metadata": {},
     "source": "Loops and conditions"
    },
    {
     "cell_type": "markdown",
     "metadata": {},
     "source": "If, if..else, nested if:"
    },
    {
     "cell_type": "code",
     "collapsed": false,
     "input": "if True:\n    print 'this'",
     "language": "python",
     "metadata": {},
     "outputs": [
      {
       "output_type": "stream",
       "stream": "stdout",
       "text": "this\n"
      }
     ],
     "prompt_number": 24
    },
    {
     "cell_type": "code",
     "collapsed": false,
     "input": "if False:\n    print 'hello'\nelse:\n    print 'hello world'",
     "language": "python",
     "metadata": {},
     "outputs": [
      {
       "output_type": "stream",
       "stream": "stdout",
       "text": "hello world\n"
      }
     ],
     "prompt_number": 27
    },
    {
     "cell_type": "code",
     "collapsed": false,
     "input": "a = 5",
     "language": "python",
     "metadata": {},
     "outputs": [],
     "prompt_number": 28
    },
    {
     "cell_type": "code",
     "collapsed": false,
     "input": "if a > 5:\n    print 'this computer is very poor at Math'\nelse:\n    print 'Come on! Even a kid can say this'",
     "language": "python",
     "metadata": {},
     "outputs": [
      {
       "output_type": "stream",
       "stream": "stdout",
       "text": "Come on! Even a kid can say this\n"
      }
     ],
     "prompt_number": 30
    },
    {
     "cell_type": "markdown",
     "metadata": {},
     "source": "Nested if is achieved by using elif statements."
    },
    {
     "cell_type": "code",
     "collapsed": false,
     "input": "#this example uses whatever we have learnt till now\n#can you guess the output without scrolling down?\nuserInput = int(raw_input(\"Enter something\"))\ninType = type(userInput)\nif inType == str: #== is used for checking equality. Use = only for assignment\n    print \"you entered a string\" #or maybe you forgot to cast it to the required type. Use int() or float()\nelif inType == float:\n    print \"you entered a float value\"\nelif inType == list:\n    print \"that is a list\"\nelse:\n    print \"This is an integer.\" #properly typed because this is the right output.",
     "language": "python",
     "metadata": {},
     "outputs": [
      {
       "name": "stdout",
       "output_type": "stream",
       "stream": "stdout",
       "text": "Enter somethingsomething\n"
      },
      {
       "ename": "ValueError",
       "evalue": "invalid literal for int() with base 10: 'something'",
       "output_type": "pyerr",
       "traceback": [
        "\u001b[0;31m---------------------------------------------------------------------------\u001b[0m\n\u001b[0;31mValueError\u001b[0m                                Traceback (most recent call last)",
        "\u001b[0;32m<ipython-input-31-2d0aa59e6b53>\u001b[0m in \u001b[0;36m<module>\u001b[0;34m()\u001b[0m\n\u001b[1;32m      1\u001b[0m \u001b[0;31m#this example uses whatever we have learnt till now\u001b[0m\u001b[0;34m\u001b[0m\u001b[0;34m\u001b[0m\u001b[0m\n\u001b[1;32m      2\u001b[0m \u001b[0;31m#can you guess the output without scrolling down?\u001b[0m\u001b[0;34m\u001b[0m\u001b[0;34m\u001b[0m\u001b[0m\n\u001b[0;32m----> 3\u001b[0;31m \u001b[0muserInput\u001b[0m \u001b[0;34m=\u001b[0m \u001b[0mint\u001b[0m\u001b[0;34m(\u001b[0m\u001b[0mraw_input\u001b[0m\u001b[0;34m(\u001b[0m\u001b[0;34m\"Enter something\"\u001b[0m\u001b[0;34m)\u001b[0m\u001b[0;34m)\u001b[0m\u001b[0;34m\u001b[0m\u001b[0m\n\u001b[0m\u001b[1;32m      4\u001b[0m \u001b[0minType\u001b[0m \u001b[0;34m=\u001b[0m \u001b[0mtype\u001b[0m\u001b[0;34m(\u001b[0m\u001b[0muserInput\u001b[0m\u001b[0;34m)\u001b[0m\u001b[0;34m\u001b[0m\u001b[0m\n\u001b[1;32m      5\u001b[0m \u001b[0;32mif\u001b[0m \u001b[0minType\u001b[0m \u001b[0;34m==\u001b[0m \u001b[0mstr\u001b[0m\u001b[0;34m:\u001b[0m \u001b[0;31m#== is used for checking equality. Use = only for assignment\u001b[0m\u001b[0;34m\u001b[0m\u001b[0m\n",
        "\u001b[0;31mValueError\u001b[0m: invalid literal for int() with base 10: 'something'"
       ]
      }
     ],
     "prompt_number": 31
    },
    {
     "cell_type": "markdown",
     "metadata": {},
     "source": "No, I was cheating. You can't convert a string to an integer unless it has only numbers. For example, you can change '9898' to a string but changing 'asdasdsad' to a number is not possible."
    },
    {
     "cell_type": "code",
     "collapsed": false,
     "input": "#this example uses whatever we have learnt till now\n#can you guess the output without scrolling down?\nuserInput = int(raw_input(\"Enter something: \"))\ninType = type(userInput)\nif inType == str: #== is used for checking equality. Use = only for assignment\n    print \"you entered a string\" #or maybe you forgot to cast it to the required type. Use int() or float()\nelif inType == float:\n    print \"you entered a float value\"\nelif inType == list:\n    print \"that is a list\"\nelse:\n    print \"This is an integer.\" #properly typed because this is the right output.",
     "language": "python",
     "metadata": {},
     "outputs": [
      {
       "name": "stdout",
       "output_type": "stream",
       "stream": "stdout",
       "text": "Enter something: 123\n"
      },
      {
       "output_type": "stream",
       "stream": "stdout",
       "text": "This is an integer.\n"
      }
     ],
     "prompt_number": 33
    },
    {
     "cell_type": "heading",
     "level": 4,
     "metadata": {},
     "source": "Loops:"
    },
    {
     "cell_type": "markdown",
     "metadata": {},
     "source": "For loop: Uses range() and xrange() to iterate through a series of values."
    },
    {
     "cell_type": "code",
     "collapsed": false,
     "input": "range(1, 10) #series of values from 1 upto 10(excluding 10)",
     "language": "python",
     "metadata": {},
     "outputs": [
      {
       "metadata": {},
       "output_type": "pyout",
       "prompt_number": 34,
       "text": "[1, 2, 3, 4, 5, 6, 7, 8, 9]"
      }
     ],
     "prompt_number": 34
    },
    {
     "cell_type": "code",
     "collapsed": false,
     "input": "xrange(1, 10)",
     "language": "python",
     "metadata": {},
     "outputs": [
      {
       "metadata": {},
       "output_type": "pyout",
       "prompt_number": 35,
       "text": "xrange(1, 10)"
      }
     ],
     "prompt_number": 35
    },
    {
     "cell_type": "markdown",
     "metadata": {},
     "source": "The difference between range() and xrange() is beyond the scope of Python application in RPi. However, in brief, use range() in situations where you need the values in the series(like printing numbers from 1 to 100). Use xrange() when you don't need the values(like printing hello world 100 times). You can use any of the two but using them according to the above guidelines will result in an optimised code."
    },
    {
     "cell_type": "code",
     "collapsed": false,
     "input": "for number in range(2):\n    print number",
     "language": "python",
     "metadata": {},
     "outputs": [
      {
       "output_type": "stream",
       "stream": "stdout",
       "text": "0\n1\n"
      }
     ],
     "prompt_number": 36
    },
    {
     "cell_type": "markdown",
     "metadata": {},
     "source": "Note that the arguments of both range() and xrange() is of the form (x)range(start, stop[, step]). Here the stop parameter is mandatory. The start parameter is 0 by default. step parameter allows you to go through the list in increments. For example,"
    },
    {
     "cell_type": "code",
     "collapsed": false,
     "input": "range(0, 10, 2) #note that the start parameter is needed if a step is provided.",
     "language": "python",
     "metadata": {},
     "outputs": [
      {
       "metadata": {},
       "output_type": "pyout",
       "prompt_number": 37,
       "text": "[0, 2, 4, 6, 8]"
      }
     ],
     "prompt_number": 37
    },
    {
     "cell_type": "code",
     "collapsed": false,
     "input": "a = 5\nwhile a < 10:\n    print a\n    a += 1 #the increment and decrement operators are not present in Python",
     "language": "python",
     "metadata": {},
     "outputs": [
      {
       "output_type": "stream",
       "stream": "stdout",
       "text": "5\n6\n7\n8\n9\n"
      }
     ],
     "prompt_number": 39
    },
    {
     "cell_type": "markdown",
     "metadata": {},
     "source": "Python doesn't provide a switch case construct. Use nested if(with elif) when necessary."
    },
    {
     "cell_type": "heading",
     "level": 4,
     "metadata": {},
     "source": "User defined methods"
    },
    {
     "cell_type": "markdown",
     "metadata": {},
     "source": "The basic syntax is :"
    },
    {
     "cell_type": "raw",
     "metadata": {},
     "source": "def functionName(optional, parameters, if, needed):\n    the function\n    does this"
    },
    {
     "cell_type": "code",
     "collapsed": false,
     "input": "def evenCheck(number):\n    if (number % 2) == 0:\n        return True\n    else:\n        return False\n\ndef anotherImplementation(number):\n    if (number % 2) == 0:\n        return \"even\"\n    else:\n        return \"odd\"\n\nfor testCase in xrange(2): \n    n = int(raw_input())\n    if evenCheck(n):\n        print \"the number is even\"\n    else:\n        print \"the number is odd\"\n        \n    result = anotherImplementation(n)\n    print \"The number is \" + result #string concatenation can be done with the + operator\n    print \"The number %d is %s\" %(n, result)",
     "language": "python",
     "metadata": {},
     "outputs": [
      {
       "name": "stdout",
       "output_type": "stream",
       "stream": "stdout",
       "text": "3\n"
      },
      {
       "output_type": "stream",
       "stream": "stdout",
       "text": "the number is odd\nThe number is odd\nThe number 3 is odd\n"
      },
      {
       "name": "stdout",
       "output_type": "stream",
       "stream": "stdout",
       "text": "4\n"
      },
      {
       "output_type": "stream",
       "stream": "stdout",
       "text": "the number is even\nThe number is even\nThe number 4 is even\n"
      }
     ],
     "prompt_number": 41
    },
    {
     "cell_type": "heading",
     "level": 3,
     "metadata": {},
     "source": "Raspberry Pi with Python"
    },
    {
     "cell_type": "markdown",
     "metadata": {},
     "source": "In combination with the above mentioned Python basics, you can use the RPi.GPIO module to program the GPIO pins of the Raspberry Pi. This module is already available in RPi so you don't have to install it. If you need any additional modules, launch the terminal in the RPi and use the command sudo pip install moduleName"
    },
    {
     "cell_type": "code",
     "collapsed": false,
     "input": "import RPi.GPIO as GPIO #imports the module. using the 'as GPIO' makes it possible to use all the \n                        #module components as GPIO.something instead of RPi.GPIO.something",
     "language": "python",
     "metadata": {},
     "outputs": []
    },
    {
     "cell_type": "markdown",
     "metadata": {},
     "source": "The following are some basics. An extensive documentation can be found here:\nhttp://pythonhosted.org/RPIO/"
    },
    {
     "cell_type": "code",
     "collapsed": false,
     "input": "GPIO.setmode(GPIO.BOARD) #sets the numbering scheme according to the board\nGPIO.setwarnings(False)  #sets warnings to false. cleaner ouput.\nGPIO.setup(7, GPIO.OUT)  #set pin 7 as output\nGPIO.output(7, True)     #Set the output as true. In simple terms, light on\nGPIO.output(7, False)    #sets the output to false. In simple terms, light off\nGPIO.cleanup()           #reset every channel that has been set up by this program,\n                         # and unexport interrupt gpio interfaces",
     "language": "python",
     "metadata": {},
     "outputs": []
    },
    {
     "cell_type": "markdown",
     "metadata": {},
     "source": "Make sure you don't use the wrong pins. This image from http://www.raspberrypi-spy.co.uk/2014/07/raspberry-pi-b-gpio-header-details-and-pinout/ should give you an idea of what to use and what not to use."
    },
    {
     "cell_type": "markdown",
     "metadata": {},
     "source": "<img src = \"gpio.png\">"
    },
    {
     "cell_type": "markdown",
     "metadata": {},
     "source": "Here is a simple program to turn on an LED."
    },
    {
     "cell_type": "code",
     "collapsed": false,
     "input": "import RPi.GPIO as GPIO\nimport time\n\nGPIO.setmode(GPIO.BOARD)\nGPIO.setwarnings(False)\nGPIO.setup(7, GPIO.OUT)\n\nGPIO.output(7, True)\ntime.sleep(3)\nGPIO.output(7, False)",
     "language": "python",
     "metadata": {},
     "outputs": []
    },
    {
     "cell_type": "markdown",
     "metadata": {},
     "source": "This program turns on the LED, keeps it on for 3 seconds and then turns it off."
    },
    {
     "cell_type": "markdown",
     "metadata": {},
     "source": "The pin connections are to be given as follows:"
    },
    {
     "cell_type": "markdown",
     "metadata": {},
     "source": "<img src = \"ledSingle.png\">"
    },
    {
     "cell_type": "markdown",
     "metadata": {},
     "source": "To make the LED blink at specific time intervals(say blink thrice. once in every two seconds) "
    },
    {
     "cell_type": "code",
     "collapsed": false,
     "input": "import RPi.GPIO as GPIO\nimport time\n\nGPIO.setmode(GPIO.BOARD)\nGPIO.setwarnings(False)\nGPIO.setup(7, GPIO.OUT)\n\nfor blink in xrange(3):\n    GPIO.output(7, True)\n    time.sleep(0.5)\n    GPIO.output(7, False)\n    time.sleep(2)",
     "language": "python",
     "metadata": {},
     "outputs": []
    },
    {
     "cell_type": "markdown",
     "metadata": {},
     "source": "To do the same with multiple LEDS,"
    },
    {
     "cell_type": "code",
     "collapsed": false,
     "input": "#one led blinks, then the next..waits \n#for two seconds and then repeats it.\n\nimport RPi.GPIO as GPIO\nimport time\n\nGPIO.setmode(GPIO.BOARD)\nGPIO.setwarnings(False)\nGPIO.setup(3, GPIO.OUT)\nGPIO.setup(7, GPIO.OUT)\n\nfor blink in xrange(3):\n    GPIO.output(7, True)\n    time.sleep(0.5)\n    GPIO.output(7, False)\n    GPIO.output(3, True)\n    time.sleep(0.5)\n    GPIO.output(3, False)\n    time.sleep(2)",
     "language": "python",
     "metadata": {},
     "outputs": []
    }
   ],
   "metadata": {}
  }
 ]
}